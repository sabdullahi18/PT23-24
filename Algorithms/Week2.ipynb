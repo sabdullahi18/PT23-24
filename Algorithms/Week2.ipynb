{
 "cells": [
  {
   "cell_type": "markdown",
   "id": "3dae78eb",
   "metadata": {},
   "source": [
    "### TA Lab Week 2 – Fundamentals\n",
    "The goal of this lab is to help develop your algorithmic thinking further, as you attempt to efficiently solve a number of puzzle problems.\n"
   ]
  },
  {
   "cell_type": "markdown",
   "id": "afd51b35",
   "metadata": {},
   "source": [
    "## Exercise 1 – Unique paths\n",
    "Imagine you have a grid of r rows and c columns. You are standing at the top left corner of a grid (s) and you want to move to a goal (g). You can move through the grid only by moving right or down.  For any two given integers (r,c), how many unique paths exist to get from s to g?\n",
    "\n",
    "For a 2x2 grid the answer is 2. You can go down and right, or right and down:\n",
    "\n",
    "s .\n",
    ". g\n",
    "\n",
    "What for a grid r x c?\n",
    "\n",
    "### Hint\n",
    "What happens if you reach the border of the grid?\n"
   ]
  },
  {
   "cell_type": "code",
   "execution_count": null,
   "id": "8c83a032",
   "metadata": {},
   "outputs": [],
   "source": [
    "def bfs(r: int, c: int, g: (int, int)):\n",
    "        count = 0\n",
    "        s = (0,0)\n",
    "        visited = []\n",
    "        queue = []\n",
    "        directions = [(1,0),(0,1)]\n",
    "        visited.append(s)\n",
    "        queue.append(s)\n",
    "        while queue:\n",
    "            nr, nc = queue.pop(0)\n",
    "            for dr, dc in directions:\n",
    "                row, col = nr + dr, nc + dc\n",
    "                if (row == r or col == c):\n",
    "                    continue\n",
    "                if ((row, col) == g):\n",
    "                    count += 1\n",
    "                queue.append((row, col))\n",
    "                visited.append((row, col))\n",
    "                \n",
    "        return count\n",
    "\n",
    "print(bfs(3, 3, (2, 2)))"
   ]
  },
  {
   "cell_type": "markdown",
   "id": "2b748e74",
   "metadata": {},
   "source": [
    "## Exercise 2 – Min-cost climbing stairs\n",
    "On a staircase, the i-th step has some non-negative cost cost[i] assigned to it. The staircase starts at index i=0. Once you pay the cost, you can either climb one or two steps. Design and implement an algorithm to find the minimum cost to reach the top floor. You can start your climb from either step index 0, or step index 1.\n",
    "\n",
    "**For example**, given a staircase of 9 floors (from 0 to 8) and input cost = [1, 100, 1, 1, 1, 100, 1, 1, 100, 1], the min-cost climb starting from 0 is 6.\n",
    "\n",
    "### Hint\n",
    "Think from top to bottom, and bottom to top.\n",
    "\n"
   ]
  },
  {
   "cell_type": "code",
   "execution_count": 1,
   "id": "4438c18d",
   "metadata": {},
   "outputs": [],
   "source": [
    "def min_cost(lst, top):\n",
    "    cost = 0\n",
    "    i = 0\n",
    "    while i <= top:\n",
    "        cost += lst[i]\n",
    "        if i == top:\n",
    "            return cost\n",
    "\n",
    "        if i + 1 == top:\n",
    "            return cost + lst[i + 1]\n",
    "\n",
    "        if lst[i + 1] >= lst[i + 2]:\n",
    "            i += 2\n",
    "\n",
    "        else:\n",
    "            i += 1\n",
    "    return cost"
   ]
  },
  {
   "cell_type": "code",
   "execution_count": null,
   "id": "e7c7355a",
   "metadata": {},
   "outputs": [],
   "source": [
    "lst = [1, 100, 1, 1, 1, 100, 1, 1, 100, 1]\n",
    "print(min_cost(lst, 5))"
   ]
  },
  {
   "cell_type": "markdown",
   "id": "8856b240",
   "metadata": {},
   "source": [
    "## Exercise 3 – Search in a bitonic array\n",
    "An array is bitonic if it is comprised of an increasing sequence of integers followed immediately by a decreasing sequence of integers. Write a program that, given a bitonic array of n distinct integer values, determines whether a given integer is in the array. Use  O(lg n) compares in the worst case.\n",
    "\n",
    "For example, the array [2,4,6,8,10,12,11,9,7,5,3] is bitonic, while the following are not: [1,2,3], [1,2,3,2,3],[5].\n",
    "\n",
    "### Hint\n",
    "First, find the maximum integer using lg n compares—this divides the array into the increasing and decreasing pieces."
   ]
  },
  {
   "cell_type": "code",
   "execution_count": 2,
   "id": "364b538c",
   "metadata": {},
   "outputs": [],
   "source": [
    "def bitonic_array(arr: [int], target: int) -> bool:\n",
    "    i = 0\n",
    "    while arr[i] < arr[i+1]:\n",
    "        i += 1\n",
    "    i += 1\n",
    "    if target == arr[i]:\n",
    "        return True\n",
    "\n",
    "    arr1 = arr[:i]\n",
    "    arr2 = arr[i+1:]\n",
    "    arr2 = arr2[::-1]\n",
    "    x = binary_search(arr1, target)\n",
    "    if x:\n",
    "        return True\n",
    "    y = binary_search(arr2, target)\n",
    "    if y:\n",
    "        return True\n",
    "    return False\n",
    "\n",
    "\n",
    "def binary_search(arr: [int], target: int) -> bool:\n",
    "    hi = 999\n",
    "    lo = 0\n",
    "    while True:\n",
    "        i = len(arr) // 2\n",
    "        if lo >= hi or arr == []:\n",
    "            return False\n",
    "        if arr[i] == target:\n",
    "            return True\n",
    "        elif arr[i] >= target:\n",
    "            lo = arr[i]\n",
    "            arr = arr[:i]\n",
    "        elif arr[i] < target:\n",
    "            hi = arr[i]\n",
    "            arr = arr[i:]"
   ]
  },
  {
   "cell_type": "code",
   "execution_count": null,
   "id": "5c923011",
   "metadata": {},
   "outputs": [],
   "source": [
    "lst2 = [2, 4, 6, 8, 10, 12, 11, 9, 7, 5, 3]\n",
    "print(bitonic_array(lst2, 8))"
   ]
  }
 ],
 "metadata": {
  "kernelspec": {
   "display_name": "Python 3 (ipykernel)",
   "language": "python",
   "name": "python3"
  },
  "language_info": {
   "codemirror_mode": {
    "name": "ipython",
    "version": 3
   },
   "file_extension": ".py",
   "mimetype": "text/x-python",
   "name": "python",
   "nbconvert_exporter": "python",
   "pygments_lexer": "ipython3",
   "version": "3.11.1"
  }
 },
 "nbformat": 4,
 "nbformat_minor": 5
}
