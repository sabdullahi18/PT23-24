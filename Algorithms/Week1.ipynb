{
 "cells": [
  {
   "cell_type": "markdown",
   "id": "e0ed3e4d",
   "metadata": {},
   "source": [
    "# **TA Lab Week 1 – Fundamentals**\n",
    "The goal of this lab is to get familiar with algorithmic problem solving. Therefore, the first lab is focussed on “classics”, such as the coin change problem, the Fibonacci sequence and a balanced parenthesis checker.\n",
    "\n",
    "## Exercise 1 – Coin change\n",
    "Given an array of integer numbers that represent the values of each coin, and given a target amount, determine the minimum number of coins needed to create this amount. At first, try to solve this problem with regular coins (i.e., 1,5,10,20,50), then try with different irregular coin values (e.g., 1,7,12, 38).\n",
    "\n",
    "### Example 1\n",
    "**Given coin values (1, 2, 5,10,20,50), with**\n",
    "Target amount = 7; solution = 2 coins (5,2)\n",
    "Target amount = 150; solution = 3 coins (50,50,50)\n",
    "Target amount = 28; solution = 4 coins (20,5,2,1)\n",
    " \n",
    "### Example 2\n",
    "**Given coin values (1,4,6), with**\n",
    "Target amount = 7; solution = 2 coins (6,1)\n",
    "Target amount = 9; solution = 3 coins (4,4,1)\n",
    " \n",
    "**Only the number of coins is required**, the coins used are not important for this exercise.\n",
    "\n",
    "### Hint\n",
    "Which amounts require the fewest coins?\n"
   ]
  },
  {
   "cell_type": "code",
   "execution_count": 9,
   "id": "485b19a5",
   "metadata": {},
   "outputs": [],
   "source": [
    "def coinChange(coins, target):\n",
    "    coins = sorted(coins, reverse=True)\n",
    "    print(coins)\n",
    "    num_of_coins = 0\n",
    "\n",
    "    for coin in coins:\n",
    "        num_of_coins += int(target / coin)\n",
    "        target %= coin\n",
    "\n",
    "    return num_of_coins"
   ]
  },
  {
   "cell_type": "code",
   "execution_count": null,
   "id": "f87b8e07",
   "metadata": {},
   "outputs": [],
   "source": [
    "ans = coinChange([1, 2, 5, 10, 20, 50], 7)\n",
    "print(ans, ans == 2)\n",
    "ans = coinChange([1, 2, 5, 10, 20, 50], 150)\n",
    "print(ans, ans == 3)\n",
    "ans = coinChange([1, 2, 5, 10, 20, 50], 28)\n",
    "print(ans, ans == 4)\n",
    "ans = coinChange([4, 4, 1], 9)\n",
    "print(ans, ans == 3)"
   ]
  },
  {
   "cell_type": "markdown",
   "id": "f7e8bc97",
   "metadata": {},
   "source": [
    "## Exercise 2 – Fibonacci Sequence\n",
    "Given an integer number n, **write two functions (one recursively and another iteratively) that output the nth Fibonacci number**. A Fibonacci sequence is a series of numbers which starts from 0 and 1 and continues with each number (Fibonacci number) being the sum of the two preceding numbers. What’s the difference in space complexity between the iterative and recursive method? \n",
    "\n",
    "### Examples:  \n",
    "- Fibonacci(5) = 3 \n",
    "- Fibonacci(10) = 34\n",
    "\n",
    "### Recursive solution:"
   ]
  },
  {
   "cell_type": "code",
   "execution_count": 6,
   "id": "e6776f38",
   "metadata": {},
   "outputs": [],
   "source": [
    "def rec_fib(n):\n",
    "    if n == 1:\n",
    "        return 0\n",
    "\n",
    "    elif n == 2:\n",
    "        return 1\n",
    "\n",
    "    else:\n",
    "        return rec_fib(n - 2) + rec_fib(n - 1)"
   ]
  },
  {
   "cell_type": "code",
   "execution_count": null,
   "id": "6a98645c",
   "metadata": {},
   "outputs": [],
   "source": [
    "ans = rec_fib(5)\n",
    "print(ans, ans == 3)\n",
    "ans = rec_fib(10)\n",
    "print(ans, ans == 34)"
   ]
  },
  {
   "cell_type": "markdown",
   "id": "d1e1b868",
   "metadata": {},
   "source": [
    "### Iterative solution:"
   ]
  },
  {
   "cell_type": "code",
   "execution_count": 15,
   "id": "a8ef5feb",
   "metadata": {},
   "outputs": [],
   "source": [
    "def iter_fib(n):\n",
    "    if n == 0:\n",
    "        return 0\n",
    "    elif n == 1:\n",
    "        return 1\n",
    "    elif n == 2:\n",
    "        return 1\n",
    "\n",
    "    fib = [1,1]\n",
    "    for i in range(n-3):\n",
    "        fib.append(fib[0] + fib[1])\n",
    "        fib.pop(0)\n",
    "\n",
    "    return max(fib)"
   ]
  },
  {
   "cell_type": "code",
   "execution_count": null,
   "id": "33c76111",
   "metadata": {},
   "outputs": [],
   "source": [
    "ans = iter_fib(5)\n",
    "print(ans, ans == 3)\n",
    "ans = iter_fib(10)\n",
    "print(ans, ans == 34)"
   ]
  },
  {
   "cell_type": "markdown",
   "id": "ccf2f08d",
   "metadata": {},
   "source": [
    "### Differing complexities\n",
    "**Time**\n",
    "Both of the functions have time complexity of O(n) due to the single nested loop, and single recursive tree\n",
    "\n",
    "**Space**\n",
    "The iterative approach will have space complexity O(1) due to it being an in place algorithm, however the recursive approach will have complexity O(n) due to the recursion tree."
   ]
  },
  {
   "cell_type": "markdown",
   "id": "cc46a1ce",
   "metadata": {},
   "source": [
    "## Exercise 3 – Balanced parenthesis\n",
    "Write an algorithm to check whether, given an input sequence of characters, the sequence contains balanced parenthesis. \n",
    "\n",
    "### For example: \n",
    "((x*2)+(x-2)) – a[3] / a[10] **is balanced**\n",
    "(((x*2)+(x-2)) – a[3] / a[10] **is not balanced**\n",
    "\n",
    "**Hint**\n",
    "Use a stack to keep track of relevant information."
   ]
  },
  {
   "cell_type": "code",
   "execution_count": 18,
   "id": "19cd784f",
   "metadata": {},
   "outputs": [],
   "source": [
    "def balanced_parantheses(code):\n",
    "    round = 0\n",
    "    square = 0\n",
    "    curly = 0\n",
    "\n",
    "    for char in code:\n",
    "        if char == '(':\n",
    "            round += 1\n",
    "        elif char == ')':\n",
    "            round -= 1\n",
    "        elif char == '[':\n",
    "            square += 1\n",
    "        elif char == ']':\n",
    "            square -= 1\n",
    "        elif char == '{':\n",
    "            curly += 1\n",
    "        elif char == '}':\n",
    "            curly -= 1\n",
    "\n",
    "    return (round + square + curly) == 0"
   ]
  },
  {
   "cell_type": "code",
   "execution_count": null,
   "id": "16c679bc",
   "metadata": {},
   "outputs": [],
   "source": [
    "ans = balanced_parantheses('((x*2)+(x-2)) – a[3] / a[10]')\n",
    "print(ans, ans == True)\n",
    "ans = balanced_parantheses('(((x*2)+(x-2)) – a[3] / a[10]')\n",
    "print(ans, ans == False)"
   ]
  },
  {
   "cell_type": "markdown",
   "id": "3de0b26b",
   "metadata": {},
   "source": [
    "**THIS DOESNT CONSIDER BRACKET ORDER**"
   ]
  }
 ],
 "metadata": {
  "kernelspec": {
   "display_name": "Python 3 (ipykernel)",
   "language": "python",
   "name": "python3"
  },
  "language_info": {
   "codemirror_mode": {
    "name": "ipython",
    "version": 3
   },
   "file_extension": ".py",
   "mimetype": "text/x-python",
   "name": "python",
   "nbconvert_exporter": "python",
   "pygments_lexer": "ipython3",
   "version": "3.11.1"
  }
 },
 "nbformat": 4,
 "nbformat_minor": 5
}
